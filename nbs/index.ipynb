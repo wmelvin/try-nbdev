{
 "cells": [
  {
   "cell_type": "code",
   "execution_count": null,
   "metadata": {},
   "outputs": [],
   "source": [
    "#| hide\n",
    "from try_nbdev.hello import *"
   ]
  },
  {
   "cell_type": "markdown",
   "metadata": {},
   "source": [
    "# try-nbdev\n",
    "\n",
    "> Exploring [nbdev](https://nbdev.fast.ai/) by [fast.ai](https://github.com/fastai/)."
   ]
  },
  {
   "cell_type": "markdown",
   "metadata": {},
   "source": [
    "I was first made aware of **nbdev** while listening to the *Python Bytes Podcast*, [Episode 300](https://pythonbytes.fm/episodes/show/300/a-jupyter-merge-driver-for-git), where they talked about *A Jupyter merge driver for git*. That made reference to an article at *fast.ai*, [The Jupyter+git problem is now solved](https://www.fast.ai/posts/2022-08-25-jupyter-git.html).\n",
    "\n",
    "This learning project is mostly following the nbdev [End-To-End Walkthrough](https://nbdev.fast.ai/tutorials/tutorial.html#enabling-github-pages) after watching the [nbdev tutorial - zero to published project in 90 minutes](https://www.youtube.com/watch?v=l7zS8Ld4_iA) on YouTube.\n"
   ]
  },
  {
   "cell_type": "markdown",
   "metadata": {},
   "source": [
    "## Install\n",
    "\n",
    "Not sure you should.  :wink:"
   ]
  },
  {
   "cell_type": "markdown",
   "metadata": {},
   "source": [
    "```sh\n",
    "pip install try_nbdev\n",
    "```"
   ]
  },
  {
   "cell_type": "markdown",
   "metadata": {},
   "source": [
    "## How to use"
   ]
  },
  {
   "cell_type": "markdown",
   "metadata": {},
   "source": [
    "This module provides little of any use, but it will say hello."
   ]
  },
  {
   "cell_type": "code",
   "execution_count": null,
   "metadata": {},
   "outputs": [
    {
     "name": "stdout",
     "output_type": "stream",
     "text": [
      "Hello, Y'all.\n"
     ]
    }
   ],
   "source": [
    "print(say_hello(\"Y'all\"))"
   ]
  }
 ],
 "metadata": {
  "kernelspec": {
   "display_name": "Python 3 (ipykernel)",
   "language": "python",
   "name": "python3"
  }
 },
 "nbformat": 4,
 "nbformat_minor": 4
}
